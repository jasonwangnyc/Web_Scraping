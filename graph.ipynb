{
 "cells": [
  {
   "cell_type": "code",
   "execution_count": 1,
   "metadata": {},
   "outputs": [],
   "source": [
    "import pandas as pd\n",
    "import numpy as np\n",
    "import re\n",
    "from matplotlib import pyplot as plt\n",
    "from scipy import stats\n",
    "import plotly\n",
    "import plotly.plotly as py\n",
    "import plotly.graph_objs as go\n",
    "plt.style.use('ggplot')\n",
    "plotly.tools.set_credentials_file(username='jasonwangnyc', api_key='Hj8g8HlNlJaIr2s78vig')"
   ]
  },
  {
   "cell_type": "code",
   "execution_count": 2,
   "metadata": {},
   "outputs": [],
   "source": [
    "youtube = pd.read_csv('youtuber_top5000.csv')"
   ]
  },
  {
   "cell_type": "code",
   "execution_count": 3,
   "metadata": {},
   "outputs": [],
   "source": [
    "#set subcribers as index and sort by it\n",
    "youtube = youtube.sort_values('Subscribe_Rank').set_index('Subscribe_Rank')"
   ]
  },
  {
   "cell_type": "code",
   "execution_count": 4,
   "metadata": {},
   "outputs": [],
   "source": [
    "#order the columns\n",
    "youtube = youtube[['Username','Country','Type','Created_Date','Subscribers','Views','Views_Rank','Uploads','Estimated_Yearly_Earning']]"
   ]
  },
  {
   "cell_type": "code",
   "execution_count": 5,
   "metadata": {},
   "outputs": [],
   "source": [
    "#changing subscribers and Views to integer\n",
    "youtube['Subscribers'] = youtube['Subscribers'].apply(lambda x: re.sub(\"\\D\", \"\", x)).astype(int)\n",
    "youtube['Views'] = youtube['Views'].apply(lambda x: re.sub(\"\\D\", \"\", x)).astype(int)\n",
    "youtube['Uploads'] = youtube['Uploads'].apply(lambda x: re.sub(\"\\D\", \"\", x)).astype(int)"
   ]
  },
  {
   "cell_type": "code",
   "execution_count": 6,
   "metadata": {},
   "outputs": [],
   "source": [
    "#create a new df for count of youtube channel of each country\n",
    "x = youtube['Country'].value_counts().dropna()\n",
    "x = x.reset_index(level=0, inplace=False)\n",
    "x = x[0:10]\n",
    "x.loc[10] = [\"others\",747]"
   ]
  },
  {
   "cell_type": "code",
   "execution_count": 7,
   "metadata": {},
   "outputs": [
    {
     "data": {
      "text/html": [
       "<iframe id=\"igraph\" scrolling=\"no\" style=\"border:none;\" seamless=\"seamless\" src=\"https://plot.ly/~jasonwangnyc/8.embed\" height=\"525px\" width=\"100%\"></iframe>"
      ],
      "text/plain": [
       "<plotly.tools.PlotlyDisplay object>"
      ]
     },
     "execution_count": 7,
     "metadata": {},
     "output_type": "execute_result"
    }
   ],
   "source": [
    "# create pie chart for country\n",
    "labels = x['index']\n",
    "values = x['Country']\n",
    "\n",
    "trace = go.Pie(labels=labels, values=values)\n",
    "\n",
    "py.iplot([trace], filename='basic_pie_chart')"
   ]
  },
  {
   "cell_type": "code",
   "execution_count": 8,
   "metadata": {},
   "outputs": [],
   "source": [
    "#create df for Types\n",
    "y = youtube['Type'].value_counts().dropna()\n",
    "y = y.reset_index(level=0, inplace=False)"
   ]
  },
  {
   "cell_type": "code",
   "execution_count": 9,
   "metadata": {},
   "outputs": [
    {
     "data": {
      "text/html": [
       "<iframe id=\"igraph\" scrolling=\"no\" style=\"border:none;\" seamless=\"seamless\" src=\"https://plot.ly/~jasonwangnyc/8.embed\" height=\"525px\" width=\"100%\"></iframe>"
      ],
      "text/plain": [
       "<plotly.tools.PlotlyDisplay object>"
      ]
     },
     "execution_count": 9,
     "metadata": {},
     "output_type": "execute_result"
    }
   ],
   "source": [
    "#create pie chart for Types \n",
    "labels2 = y['index']\n",
    "values2 = y['Type']\n",
    "\n",
    "type1 = go.Pie(labels=labels2, values=values2)\n",
    "\n",
    "py.iplot([type1], filename='basic_pie_chart')"
   ]
  },
  {
   "cell_type": "code",
   "execution_count": 10,
   "metadata": {},
   "outputs": [],
   "source": [
    "#exclude nan from veiws and subscribers\n",
    "subs = np.array(youtube['Subscribers'])\n",
    "views = np.array(youtube['Views'])\n",
    "ups = np.array(youtube['Uploads'])\n",
    "a=np.isnan(subs)==False\n",
    "b=np.isnan(views)==False\n",
    "d=np.isnan(ups)==False\n",
    "c=np.logical_and(a,b)\n",
    "e=np.logical_and(a,d)\n",
    "subs2 = subs[c]\n",
    "views2 = views[c]\n",
    "subs3 = subs[e]\n",
    "ups2 = views[e]"
   ]
  },
  {
   "cell_type": "code",
   "execution_count": 11,
   "metadata": {},
   "outputs": [
    {
     "data": {
      "text/html": [
       "<iframe id=\"igraph\" scrolling=\"no\" style=\"border:none;\" seamless=\"seamless\" src=\"https://plot.ly/~jasonwangnyc/10.embed\" height=\"525px\" width=\"100%\"></iframe>"
      ],
      "text/plain": [
       "<plotly.tools.PlotlyDisplay object>"
      ]
     },
     "execution_count": 11,
     "metadata": {},
     "output_type": "execute_result"
    }
   ],
   "source": [
    "#create scatter plot for views and subscribers with regression line\n",
    "slope, intercept, r_value, p_value, std_err = stats.linregress(subs2, views2)\n",
    "line = slope*youtube['Subscribers'] + intercept\n",
    "youtube = youtube[youtube!=0]\n",
    "trace1 = go.Scatter(\n",
    "    x = youtube['Subscribers'],\n",
    "    y = youtube['Views'],\n",
    "    mode = 'markers',\n",
    "    name = 'Data')\n",
    "trace2 = go.Scatter(\n",
    "    x = youtube['Subscribers'],\n",
    "    y = line,\n",
    "    mode = 'lines',\n",
    "    name = 'Regression Line'\n",
    ")\n",
    "layout = go.Layout(\n",
    "    xaxis=dict(\n",
    "        title='Subscribers',\n",
    "        titlefont=dict(\n",
    "            size=18\n",
    "        )\n",
    "    ),\n",
    "    yaxis=dict(\n",
    "        title='Views',\n",
    "        titlefont=dict(\n",
    "            size=18\n",
    "        )\n",
    "    )\n",
    ")\n",
    "data = [trace1,trace2]\n",
    "data1 = go.Figure(data=data, layout=layout)\n",
    "py.iplot(data1, filename='basic-scatter')"
   ]
  },
  {
   "cell_type": "code",
   "execution_count": 12,
   "metadata": {},
   "outputs": [
    {
     "data": {
      "text/html": [
       "<div>\n",
       "<style scoped>\n",
       "    .dataframe tbody tr th:only-of-type {\n",
       "        vertical-align: middle;\n",
       "    }\n",
       "\n",
       "    .dataframe tbody tr th {\n",
       "        vertical-align: top;\n",
       "    }\n",
       "\n",
       "    .dataframe thead th {\n",
       "        text-align: right;\n",
       "    }\n",
       "</style>\n",
       "<table border=\"1\" class=\"dataframe\">\n",
       "  <thead>\n",
       "    <tr style=\"text-align: right;\">\n",
       "      <th></th>\n",
       "      <th>Views</th>\n",
       "      <th>Subscribers</th>\n",
       "    </tr>\n",
       "  </thead>\n",
       "  <tbody>\n",
       "    <tr>\n",
       "      <th>Views</th>\n",
       "      <td>1.000000</td>\n",
       "      <td>0.718394</td>\n",
       "    </tr>\n",
       "    <tr>\n",
       "      <th>Subscribers</th>\n",
       "      <td>0.718394</td>\n",
       "      <td>1.000000</td>\n",
       "    </tr>\n",
       "  </tbody>\n",
       "</table>\n",
       "</div>"
      ],
      "text/plain": [
       "                Views  Subscribers\n",
       "Views        1.000000     0.718394\n",
       "Subscribers  0.718394     1.000000"
      ]
     },
     "execution_count": 12,
     "metadata": {},
     "output_type": "execute_result"
    }
   ],
   "source": [
    "#correlation of views and subscribers\n",
    "youtube[['Views','Subscribers']].corr()"
   ]
  },
  {
   "cell_type": "code",
   "execution_count": 13,
   "metadata": {},
   "outputs": [
    {
     "data": {
      "text/html": [
       "<iframe id=\"igraph\" scrolling=\"no\" style=\"border:none;\" seamless=\"seamless\" src=\"https://plot.ly/~jasonwangnyc/10.embed\" height=\"525px\" width=\"100%\"></iframe>"
      ],
      "text/plain": [
       "<plotly.tools.PlotlyDisplay object>"
      ]
     },
     "execution_count": 13,
     "metadata": {},
     "output_type": "execute_result"
    }
   ],
   "source": [
    "#create scatter plot for Uploads and subscribers\n",
    "youtube = youtube[youtube!=0]\n",
    "trace3 = go.Scatter(\n",
    "    x = youtube['Subscribers'],\n",
    "    y = youtube['Uploads'],\n",
    "    mode = 'markers',\n",
    "    name = 'Data')\n",
    "\n",
    "layout1 = go.Layout(\n",
    "    xaxis=dict(\n",
    "        title='Subscribers',\n",
    "        titlefont=dict(\n",
    "            size=18\n",
    "        )\n",
    "    ),\n",
    "    yaxis=dict(\n",
    "        title='Uploads',\n",
    "        titlefont=dict(\n",
    "            size=18\n",
    "        )\n",
    "    )\n",
    ")\n",
    "scatter_su = [trace3]\n",
    "scatter_su1 = go.Figure(data=scatter_su, layout=layout1)\n",
    "py.iplot(scatter_su1, filename='basic-scatter')"
   ]
  },
  {
   "cell_type": "code",
   "execution_count": 14,
   "metadata": {},
   "outputs": [
    {
     "data": {
      "text/html": [
       "<iframe id=\"igraph\" scrolling=\"no\" style=\"border:none;\" seamless=\"seamless\" src=\"https://plot.ly/~jasonwangnyc/10.embed\" height=\"525px\" width=\"100%\"></iframe>"
      ],
      "text/plain": [
       "<plotly.tools.PlotlyDisplay object>"
      ]
     },
     "execution_count": 14,
     "metadata": {},
     "output_type": "execute_result"
    }
   ],
   "source": [
    "#create scatter plot for views and Uploads\n",
    "youtube = youtube[youtube!=0]\n",
    "trace4 = go.Scatter(\n",
    "    x = youtube['Views'],\n",
    "    y = youtube['Uploads'],\n",
    "    mode = 'markers',\n",
    "    name = 'Data')\n",
    "\n",
    "layout2 = go.Layout(\n",
    "    xaxis=dict(\n",
    "        title='Views',\n",
    "        titlefont=dict(\n",
    "            size=18\n",
    "        )\n",
    "    ),\n",
    "    yaxis=dict(\n",
    "        title='Uploads',\n",
    "        titlefont=dict(\n",
    "            size=18\n",
    "        )\n",
    "    )\n",
    ")\n",
    "scatter_vu = [trace4]\n",
    "scatter_vu1 = go.Figure(data=scatter_vu, layout=layout2)\n",
    "py.iplot(scatter_vu1, filename='basic-scatter')"
   ]
  },
  {
   "cell_type": "code",
   "execution_count": 15,
   "metadata": {},
   "outputs": [
    {
     "data": {
      "text/html": [
       "<iframe id=\"igraph\" scrolling=\"no\" style=\"border:none;\" seamless=\"seamless\" src=\"https://plot.ly/~jasonwangnyc/12.embed\" height=\"525px\" width=\"100%\"></iframe>"
      ],
      "text/plain": [
       "<plotly.tools.PlotlyDisplay object>"
      ]
     },
     "execution_count": 15,
     "metadata": {},
     "output_type": "execute_result"
    }
   ],
   "source": [
    "#create a country-views bar chart\n",
    "bar_cv = [go.Bar(\n",
    "            x= youtube['Country'],\n",
    "            y= youtube['Views']\n",
    "    )]\n",
    "layout3 = go.Layout(\n",
    "    yaxis=dict(\n",
    "        title='Views',\n",
    "        titlefont=dict(\n",
    "            size=18\n",
    "        )\n",
    "    )\n",
    ")\n",
    "py.iplot(bar_cv, layout=layout3,filename='basic-bar')"
   ]
  },
  {
   "cell_type": "code",
   "execution_count": 19,
   "metadata": {},
   "outputs": [
    {
     "data": {
      "text/html": [
       "<iframe id=\"igraph\" scrolling=\"no\" style=\"border:none;\" seamless=\"seamless\" src=\"https://plot.ly/~jasonwangnyc/12.embed\" height=\"525px\" width=\"100%\"></iframe>"
      ],
      "text/plain": [
       "<plotly.tools.PlotlyDisplay object>"
      ]
     },
     "execution_count": 19,
     "metadata": {},
     "output_type": "execute_result"
    }
   ],
   "source": [
    "#create a country-subscribers bar chart\n",
    "bar_cs = [go.Bar(\n",
    "            x= youtube['Country'],\n",
    "            y= youtube['Subscribers']\n",
    "    )]\n",
    "layout4 = go.Layout(\n",
    "    yaxis=dict(\n",
    "        title='Subscribers',\n",
    "        titlefont=dict(\n",
    "            size=18\n",
    "        )\n",
    "    )\n",
    ")\n",
    "py.iplot(bar_cs, layout=layout4,filename='basic-bar')"
   ]
  },
  {
   "cell_type": "code",
   "execution_count": 17,
   "metadata": {},
   "outputs": [
    {
     "data": {
      "text/html": [
       "<iframe id=\"igraph\" scrolling=\"no\" style=\"border:none;\" seamless=\"seamless\" src=\"https://plot.ly/~jasonwangnyc/12.embed\" height=\"525px\" width=\"100%\"></iframe>"
      ],
      "text/plain": [
       "<plotly.tools.PlotlyDisplay object>"
      ]
     },
     "execution_count": 17,
     "metadata": {},
     "output_type": "execute_result"
    }
   ],
   "source": [
    "#create a Type-subscribers bar chart\n",
    "bar_ts = [go.Bar(\n",
    "            x= youtube['Type'],\n",
    "            y= youtube['Subscribers']\n",
    "    )]\n",
    "layout5 = go.Layout(\n",
    "    yaxis=dict(\n",
    "        title='Subscribers',\n",
    "        titlefont=dict(\n",
    "            size=18\n",
    "        )\n",
    "    )\n",
    ")\n",
    "py.iplot(bar_ts, layout=layout5,filename='basic-bar')"
   ]
  },
  {
   "cell_type": "code",
   "execution_count": 18,
   "metadata": {
    "scrolled": false
   },
   "outputs": [
    {
     "data": {
      "text/html": [
       "<iframe id=\"igraph\" scrolling=\"no\" style=\"border:none;\" seamless=\"seamless\" src=\"https://plot.ly/~jasonwangnyc/12.embed\" height=\"525px\" width=\"100%\"></iframe>"
      ],
      "text/plain": [
       "<plotly.tools.PlotlyDisplay object>"
      ]
     },
     "execution_count": 18,
     "metadata": {},
     "output_type": "execute_result"
    }
   ],
   "source": [
    "#create a Type-Views bar chart\n",
    "bar_tv = [go.Bar(\n",
    "            x= youtube['Type'],\n",
    "            y= youtube['Views']\n",
    "    )]\n",
    "layout6 = go.Layout(\n",
    "    yaxis=dict(\n",
    "        title='Views',\n",
    "        titlefont=dict(\n",
    "            size=18\n",
    "        )\n",
    "    )\n",
    ")\n",
    "py.iplot(bar_tv, layout=layout6,filename='basic-bar')"
   ]
  },
  {
   "cell_type": "code",
   "execution_count": null,
   "metadata": {},
   "outputs": [],
   "source": []
  }
 ],
 "metadata": {
  "kernelspec": {
   "display_name": "Python 3",
   "language": "python",
   "name": "python3"
  },
  "language_info": {
   "codemirror_mode": {
    "name": "ipython",
    "version": 3
   },
   "file_extension": ".py",
   "mimetype": "text/x-python",
   "name": "python",
   "nbconvert_exporter": "python",
   "pygments_lexer": "ipython3",
   "version": "3.7.2"
  }
 },
 "nbformat": 4,
 "nbformat_minor": 2
}
